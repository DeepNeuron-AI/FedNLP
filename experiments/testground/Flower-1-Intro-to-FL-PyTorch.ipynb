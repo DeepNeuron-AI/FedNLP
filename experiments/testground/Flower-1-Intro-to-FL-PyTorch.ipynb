{
  "cells": [
    {
      "cell_type": "markdown",
      "metadata": {
        "id": "cz71fPGrpRiQ"
      },
      "source": [
        "# An Introduction to Federated Learning\n",
        "\n",
        "Welcome to the federated learning tutorial!\n",
        "\n",
        "In this notebook, we'll build a federated learning system using Flower and PyTorch. In part 1, we use PyTorch for the model training pipeline and data loading. In part 2, we continue to federate the PyTorch-based pipeline using Flower."
      ]
    },
    {
      "cell_type": "markdown",
      "metadata": {
        "id": "mBu1HRRY6bwX"
      },
      "source": [
        "## Part 0: Preparation\n",
        "\n",
        "Before we begin with any actual code, let's make sure that we have everything we need."
      ]
    },
    {
      "cell_type": "markdown",
      "metadata": {
        "id": "D4KiTMTpiort"
      },
      "source": [
        "### Installing dependencies\n",
        "\n",
        "Next, we install the necessary packages for PyTorch (`torch` and `torchvision`) and Flower (`flwr`):"
      ]
    },
    {
      "cell_type": "markdown",
      "metadata": {
        "id": "3UFT3_A3iz76"
      },
      "source": [
        "Now that we have the necessary packages installed, we can import everything we need for this tutorial:"
      ]
    },
    {
      "cell_type": "code",
      "execution_count": 1,
      "metadata": {
        "id": "Tja2N6l-qH-e"
      },
      "outputs": [
        {
          "name": "stdout",
          "output_type": "stream",
          "text": [
            "flwr 0.19.0\n",
            "numpy 1.20.3\n",
            "torch 1.10.0+cu111\n",
            "Training on cpu\n"
          ]
        }
      ],
      "source": [
        "from collections import OrderedDict\n",
        "from typing import List\n",
        "\n",
        "import flwr as fl\n",
        "import numpy as np\n",
        "# import matplotlib.pyplot as plt\n",
        "import torch\n",
        "import torch.nn as nn\n",
        "import torch.nn.functional as F\n",
        "# import torchvision.transforms as transforms\n",
        "from torch.utils.data import DataLoader, random_split, TensorDataset\n",
        "from sklearn.datasets import make_classification\n",
        "# from torchvision.datasets import CIFAR10\n",
        "\n",
        "print(\"flwr\", fl.__version__)\n",
        "print(\"numpy\", np.__version__)\n",
        "print(\"torch\", torch.__version__)\n",
        "# print(\"torchvision\", torchvision.__version__)\n",
        "\n",
        "DEVICE = torch.device(\"cpu\")\n",
        "# DEVICE = torch.device(\"cuda:0\" if torch.cuda.is_available() else \"cpu\")\n",
        "print(f\"Training on {DEVICE}\")"
      ]
    },
    {
      "cell_type": "markdown",
      "metadata": {
        "id": "8D2bnPKG58Gx"
      },
      "source": [
        "It is possible to switch to a runtime that has GPU acceleration enabled (on Google Colab: `Runtime > Change runtime type > Hardware acclerator: GPU > Save`). Note, however, that Google Colab is not always able to offer GPU acceleration. If you see an error related to GPU availability in one of the following sections, consider switching back to CPU-based execution by setting `DEVICE = torch.device(\"cpu\")`. If the runtime has GPU acceleration enabled, you should see the output `Training on cuda:0`, otherwise it'll say `Training on cpu`."
      ]
    },
    {
      "cell_type": "markdown",
      "metadata": {
        "id": "JVcgAAiaihnx"
      },
      "source": [
        "\n",
        "### Loading the data\n",
        "\n",
        "Federated learning can be applied to many different types of tasks across different domains. In this tutorial, we introduce federated learning by training a simple convolutional neural network (CNN) on the popular CIFAR-10 dataset. CIFAR-10 can be used to train image classifiers that distinguish between images from ten different classes:"
      ]
    },
    {
      "cell_type": "code",
      "execution_count": 2,
      "metadata": {
        "id": "-tpk_Zv37ONm"
      },
      "outputs": [],
      "source": [
        "CLASSES = ('plane', 'car', 'bird', 'cat', 'deer', 'dog', 'frog', 'horse', 'ship', 'truck')"
      ]
    },
    {
      "cell_type": "markdown",
      "metadata": {
        "id": "toxAoOq6fS2h"
      },
      "source": [
        "We simulate having multiple datasets from multiple organizations (also called the \"cross-silo\" setting in federated learning) by splitting the original CIFAR-10 dataset into multiple partitions. Each partition will represent the data from a single organization. We're doing this purely for experimentation purposes, in the real world there's no need for data splitting because each organization already has their own data (so the data is naturally partitioned).\n",
        "\n",
        "Each organization will act as a client in the federated learning system. So having ten organizations participate in a federation means having ten clients connected to the federated learning server:\n"
      ]
    },
    {
      "cell_type": "code",
      "execution_count": 3,
      "metadata": {
        "id": "q9LhPFDh0S5c"
      },
      "outputs": [],
      "source": [
        "NUM_CLIENTS = 10"
      ]
    },
    {
      "cell_type": "markdown",
      "metadata": {
        "id": "01Zy7yjBPhQd"
      },
      "source": [
        "\n",
        "Let's now load the CIFAR-10 training and test set, partition them into ten smaller datasets (each split into training and validation set), and wrap the resulting partitions by creating a PyTorch `DataLoader` for each of them:"
      ]
    },
    {
      "cell_type": "code",
      "execution_count": 4,
      "metadata": {
        "id": "J4Em7BPNTXeX"
      },
      "outputs": [],
      "source": [
        "BATCH_SIZE = 32\n",
        "\n",
        "def load_datasets():\n",
        "    # Download and transform CIFAR-10 (train and test)\n",
        "    # transform = transforms.Compose(\n",
        "    #   [transforms.ToTensor(), transforms.Normalize((0.5, 0.5, 0.5), (0.5, 0.5, 0.5))]\n",
        "    # )\n",
        "    # trainset = CIFAR10(\"./dataset\", train=True, download=True, transform=transform)\n",
        "    # testset = CIFAR10(\"./dataset\", train=False, download=True, transform=transform)\n",
        "    X, y = make_classification(\n",
        "        n_samples=5000,\n",
        "        n_classes=len(CLASSES),\n",
        "        n_features=16 * 25,\n",
        "        n_informative=100,\n",
        "    ) \n",
        "    train_size = 4500\n",
        "    train_x, train_y = torch.Tensor(X[:train_size]), torch.Tensor(y[:train_size])\n",
        "    test_x, test_y = torch.Tensor(X[train_size:]), torch.Tensor(y[train_size:])\n",
        "    trainset = TensorDataset(train_x, train_y)\n",
        "    testset = TensorDataset(test_x, test_y)\n",
        "\n",
        "    # Split training set into 10 partitions to simulate the individual dataset\n",
        "    partition_size = len(trainset) // NUM_CLIENTS\n",
        "    lengths = [partition_size] * NUM_CLIENTS\n",
        "    datasets = random_split(trainset, lengths, torch.Generator().manual_seed(42))\n",
        "\n",
        "    # Split each partition into train/val and create DataLoader\n",
        "    trainloaders = []\n",
        "    valloaders = []\n",
        "    for ds in datasets:\n",
        "        len_val = len(ds) // 10  # 10 % validation set\n",
        "        len_train = len(ds) - len_val\n",
        "        lengths = [len_train, len_val]\n",
        "        ds_train, ds_val = random_split(ds, lengths, torch.Generator().manual_seed(42))\n",
        "        trainloaders.append(DataLoader(ds_train, batch_size=BATCH_SIZE, shuffle=True))\n",
        "        valloaders.append(DataLoader(ds_val, batch_size=BATCH_SIZE))\n",
        "    testloader = DataLoader(testset, batch_size=BATCH_SIZE)\n",
        "    return trainloaders, valloaders, testloader\n",
        "\n",
        "trainloaders, valloaders, testloader = load_datasets()"
      ]
    },
    {
      "cell_type": "markdown",
      "metadata": {
        "id": "OBp7kB4G0sPB"
      },
      "source": [
        "We now have a list of ten training sets and ten validation sets (`trainloaders` and `valloaders`) representing the data of ten different organizations. Each `trainloader`/`valloader` pair contains 4500 training examples and 500 validation examples. There's also a single `testloader` (we did not split the test set). Again, this is only necessary for building research or educational systems, actual federated learning systems have their data naturally distributed across multiple partitions.\n",
        "\n",
        "Let's take a look at the first batch of images and labels in the first training set (i.e., `trainloaders[0]`) before we move on:"
      ]
    },
    {
      "cell_type": "code",
      "execution_count": 5,
      "metadata": {
        "id": "E3dag9WeT9VH"
      },
      "outputs": [],
      "source": [
        "# def imshow(img):\n",
        "#     img = img / 2 + 0.5  # unnormalize\n",
        "#     plt.imshow(np.transpose(img.numpy(), (1, 2, 0)))\n",
        "#     plt.show()\n",
        "\n",
        "# images, labels = iter(trainloaders[1]).next()\n",
        "# imshow(torchvision.utils.make_grid(images))\n",
        "# print(' '.join('%5s' % CLASSES[labels[j]] for j in range(32)))"
      ]
    },
    {
      "cell_type": "markdown",
      "metadata": {
        "id": "ZGVGbRZ_yEA2"
      },
      "source": [
        "The output above shows a random batch of images from the first `trainloader` in our list of ten `trainloaders`. It also prints the labels associated with each image (i.e., one of the ten possible labels we've seen above). If you run the cell again, you should see another batch of images."
      ]
    },
    {
      "cell_type": "markdown",
      "metadata": {
        "id": "4TW4Pzb7p1F9"
      },
      "source": [
        "## Part 1: Centralized Training with PyTorch\n",
        "\n"
      ]
    },
    {
      "cell_type": "markdown",
      "metadata": {
        "id": "cTjCmmBtqPgM"
      },
      "source": [
        "Next, we're going to use PyTorch to define a simple convolutional neural network. This introduction assumes basic familiarity with PyTorch, so it doesn't cover the PyTorch-related aspects in full detail. If you want to dive deeper into PyTorch, we recommend [*DEEP LEARNING WITH PYTORCH: A 60 MINUTE BLITZ*](https://pytorch.org/tutorials/beginner/deep_learning_60min_blitz.html).\n"
      ]
    },
    {
      "cell_type": "markdown",
      "metadata": {
        "id": "XYks8IpJL6iK"
      },
      "source": [
        "### Defining the model\n",
        "\n",
        "We use the simple CNN described in the [PyTorch tutorial](https://pytorch.org/tutorials/beginner/blitz/cifar10_tutorial.html#define-a-convolutional-neural-network):"
      ]
    },
    {
      "cell_type": "code",
      "execution_count": 6,
      "metadata": {
        "id": "2X3cVBXMpP6w"
      },
      "outputs": [],
      "source": [
        "class Net(nn.Module):\n",
        "    def __init__(self) -> None:\n",
        "        super(Net, self).__init__()\n",
        "        # self.conv1 = nn.Conv2d(3, 6, 5)\n",
        "        # self.pool = nn.MaxPool2d(2, 2)\n",
        "        # self.conv2 = nn.Conv2d(6, 16, 5)\n",
        "        self.fc1 = nn.Linear(16 * 5 * 5, 120)\n",
        "        self.fc2 = nn.Linear(120, 84)\n",
        "        self.fc3 = nn.Linear(84, 10)\n",
        "\n",
        "    def forward(self, x: torch.Tensor) -> torch.Tensor:\n",
        "        # x = self.pool(F.relu(self.conv1(x)))\n",
        "        # x = self.pool(F.relu(self.conv2(x)))\n",
        "        # x = x.view(-1, 16 * 5 * 5)\n",
        "        x = F.relu(self.fc1(x))\n",
        "        x = F.relu(self.fc2(x))\n",
        "        x = self.fc3(x)\n",
        "        return x"
      ]
    },
    {
      "cell_type": "markdown",
      "metadata": {
        "id": "tCRhau5cr2Gd"
      },
      "source": [
        "Let's continue with the usual training and test functions:"
      ]
    },
    {
      "cell_type": "code",
      "execution_count": 7,
      "metadata": {
        "id": "xIl8NfAFpyam"
      },
      "outputs": [],
      "source": [
        "def train(net, trainloader, epochs: int, verbose=False):\n",
        "    \"\"\"Train the network on the training set.\"\"\"\n",
        "    criterion = nn.CrossEntropyLoss()\n",
        "    optimizer = torch.optim.Adam(net.parameters())\n",
        "    net.train()\n",
        "    for epoch in range(epochs):\n",
        "        correct, total, epoch_loss = 0, 0, 0.0\n",
        "        for images, labels in trainloader:\n",
        "            labels = labels.long()\n",
        "            images, labels = images.to(DEVICE), labels.to(DEVICE)\n",
        "            optimizer.zero_grad()\n",
        "            outputs = net(images)\n",
        "            loss = criterion(outputs, labels)\n",
        "            loss.backward()\n",
        "            optimizer.step()\n",
        "            # Metrics\n",
        "            epoch_loss += loss\n",
        "            total += labels.size(0)\n",
        "            correct += (torch.max(outputs.data, 1)[1] == labels).sum().item()\n",
        "        epoch_loss /= len(testloader.dataset)\n",
        "        epoch_acc = correct / total\n",
        "        if verbose:\n",
        "            print(f\"Epoch {epoch+1}: train loss {epoch_loss}, accuracy {epoch_acc}\")\n",
        "\n",
        "\n",
        "def test(net, testloader):\n",
        "    \"\"\"Evaluate the network on the entire test set.\"\"\"\n",
        "    criterion = nn.CrossEntropyLoss()\n",
        "    correct, total, loss = 0, 0, 0.0\n",
        "    net.eval()\n",
        "    with torch.no_grad():\n",
        "        for images, labels in testloader:\n",
        "            labels = labels.long()\n",
        "            images, labels = images.to(DEVICE), labels.to(DEVICE)\n",
        "            outputs = net(images)\n",
        "            loss += criterion(outputs, labels).item()\n",
        "            _, predicted = torch.max(outputs.data, 1)\n",
        "            total += labels.size(0)\n",
        "            correct += (predicted == labels).sum().item()\n",
        "    loss /= len(testloader.dataset)\n",
        "    accuracy = correct / total\n",
        "    return loss, accuracy"
      ]
    },
    {
      "cell_type": "markdown",
      "metadata": {
        "id": "GDDxh73Sszck"
      },
      "source": [
        "### Training the model\n",
        "\n",
        "We now have all the basic building blocks we need: a dataset, a model, a training function, and a test function. Let's put them together to train the model on the dataset of one of our organizations (`trainloaders[0]`). This simulates the reality of most machine learning projects today: each organization has their own data and trains models only on this internal data: "
      ]
    },
    {
      "cell_type": "code",
      "execution_count": 8,
      "metadata": {
        "id": "WdUTb8WgtRMz"
      },
      "outputs": [
        {
          "name": "stdout",
          "output_type": "stream",
          "text": [
            "Epoch 1: validation loss 0.10349538061353895, accuracy 0.15555555555555556\n",
            "Epoch 2: validation loss 0.10328203837076823, accuracy 0.17777777777777778\n",
            "Epoch 3: validation loss 0.10332967440287272, accuracy 0.2222222222222222\n",
            "Epoch 4: validation loss 0.10229602389865451, accuracy 0.2222222222222222\n",
            "Epoch 5: validation loss 0.10341920322842069, accuracy 0.2222222222222222\n",
            "Final test set performance:\n",
            "\tloss 0.07241963005065918\n",
            "\taccuracy 0.206\n"
          ]
        }
      ],
      "source": [
        "trainloader = trainloaders[0]\n",
        "valloader = valloaders[0]\n",
        "net = Net().to(DEVICE)\n",
        "\n",
        "for epoch in range(5):\n",
        "    train(net, trainloader, 1)\n",
        "    loss, accuracy = test(net, valloader)\n",
        "    print(f\"Epoch {epoch+1}: validation loss {loss}, accuracy {accuracy}\")\n",
        "\n",
        "loss, accuracy = test(net, testloader)\n",
        "print(f\"Final test set performance:\\n\\tloss {loss}\\n\\taccuracy {accuracy}\")"
      ]
    },
    {
      "cell_type": "markdown",
      "metadata": {
        "id": "DhLGLdmhOhVr"
      },
      "source": [
        "Training the simple CNN on our CIFAR-10 split for 5 epochs should result in a test set accuracy of about 41%, which is not good, but at the same time, it doesn't really matter for the purposes of this tutorial. The intent was just to show a simplistic centralized training pipeline that sets the stage for what comes next - federated learning!"
      ]
    },
    {
      "cell_type": "markdown",
      "metadata": {
        "id": "a6HP2cYCsqxD"
      },
      "source": [
        "## Part 2: Federated Learning with Flower\n",
        "\n",
        "Part 1 demonstrated a simple centralized training pipeline. All data was in one place (i.e., a single `trainloader` and a single `valloader`). Next, we'll simulate a situation where we have multiple datasets in multiple organizations and where we train a model over these organizations using federated learning."
      ]
    },
    {
      "cell_type": "markdown",
      "metadata": {
        "id": "mf-cW093MzeT"
      },
      "source": [
        "### Updating model parameters\n",
        "\n",
        "In federated learning, the server sends the global model parameters to the client, and the client updates the local model with the parameters received from the server. It then trains the model on the local data (which changes the model parameters locally) and sends the updated/changed model parameters back to the server (or, alternatively, it sends just the gradients back to the server, not the full model parameters).\n",
        "\n",
        "We need two helper functions to update the local model with parameters received from the server and to get the updated model parameters from the local model: `set_parameters` and `get_parameters`. The following two functions do just that for the PyTorch model above.\n",
        "\n",
        "The details of how this works are not really important here (feel free to consult the PyTorch documentation if you want to learn more). In essence, we use `state_dict` to access PyTorch model parameter tensors. The parameter tensors are then converted to/from a list of NumPy ndarray's (which Flower knows how to serialize/deserialize):"
      ]
    },
    {
      "cell_type": "code",
      "execution_count": 10,
      "metadata": {
        "id": "1ZxGk6AMNvvV"
      },
      "outputs": [],
      "source": [
        "def get_parameters(net) -> List[np.ndarray]:\n",
        "    return [val.cpu().numpy() for _, val in net.state_dict().items()]\n",
        "\n",
        "def set_parameters(net, parameters: List[np.ndarray]):\n",
        "    params_dict = zip(net.state_dict().keys(), parameters)\n",
        "    state_dict = OrderedDict({k: torch.Tensor(v) for k, v in params_dict})\n",
        "    net.load_state_dict(state_dict, strict=True)"
      ]
    },
    {
      "cell_type": "markdown",
      "metadata": {
        "id": "1lCf3oljdClM"
      },
      "source": [
        "### Implementing a Flower client\n",
        "\n",
        "With that out of the way, let's move on to the interesting part. Federated learning systems consist of a server and multiple clients. In Flower, we create clients by implementing subclasses of `flwr.client.Client` or `flwr.client.NumPyClient`. We use `NumPyClient` in this tutorial because it is easier to implement and requires us to write less boilerplate.\n",
        "\n",
        "To implement the Flower client, we create a subclass of `flwr.client.NumPyClient` and implement the three methods `get_parameters`, `fit`, and `evaluate`:\n",
        "\n",
        "* `get_parameters`: Return the current local model parameters\n",
        "* `fit`: Receive model parameters from the server, train the model parameters on the local data, and return the (updated) model parameters to the server\n",
        "* `evaluate`: Receive model parameters from the server, evaluate the model parameters on the local data, and return the evaluation result to the server\n",
        "\n",
        "We mentioned that our clients will use the previously defined PyTorch components for model training and evaluation. Let's see a simple Flower client implementation that brings everything together:"
      ]
    },
    {
      "cell_type": "code",
      "execution_count": 11,
      "metadata": {
        "id": "ye6Jt5p3LWtF"
      },
      "outputs": [],
      "source": [
        "class FlowerClient(fl.client.NumPyClient):\n",
        "    def __init__(self, net, trainloader, valloader):\n",
        "        self.net = net\n",
        "        self.trainloader = trainloader\n",
        "        self.valloader = valloader\n",
        "\n",
        "    def get_parameters(self):\n",
        "        return get_parameters(self.net)\n",
        "\n",
        "    def fit(self, parameters, config):\n",
        "        set_parameters(self.net, parameters)\n",
        "        train(self.net, self.trainloader, epochs=1)\n",
        "        return get_parameters(self.net), len(self.trainloader), {}\n",
        "\n",
        "    def evaluate(self, parameters, config):\n",
        "        set_parameters(self.net, parameters)\n",
        "        loss, accuracy = test(self.net, self.valloader)\n",
        "        return float(loss), len(self.valloader), {\"accuracy\": float(accuracy)}"
      ]
    },
    {
      "cell_type": "markdown",
      "metadata": {
        "id": "Heyxd9MfHOTe"
      },
      "source": [
        "Our class `FlowerClient` defines how local training/evaluation will be performed and allows Flower to call the local training/evaluation through `fit` and `evaluate`. Each instance of `FlowerClient` represents a *single client* in our federated learning system. Federated learning systems have multiple clients (otherwise there's not much to federate), so each client will be represented by its own instance of `FlowerClient`. If we have, for example, three clients in our workload, then we'd have three instances of `FlowerClient`. Flower calls `FlowerClient.fit` on the respective instance when the server selects a particular client for training (and `FlowerClient.evaluate` for evaluation).\n",
        "\n",
        "### Using the Virtual Client Engine\n",
        "\n",
        "In this notebook, we want to simulate a federated learning system with 10 clients on a single machine. This means that the server and all 10 clients will live on a single machine and share resources such as CPU, GPU, and memory. Having 10 clients would mean having 10 instances of `FlowerClient` im memory. Doing this on a single machine can quickly exhaust the available memory resources, even if only a subset of these clients participates in a single round of federated learning.\n",
        "\n",
        "In addition to the regular capabilities where server and clients run on multiple machines, Flower therefore provides special simulation capabilities that create `FlowerClient` instances only when they are actually necessary for training or evaluation. To enable the Flower framework to create clients when necessary, we need to implement a function called `client_fn` that creates a `FlowerClient` instance on demand. Flower calls `client_fn` whenever it needs an instance of one particular client to call `fit` or `evaluate` (those instances are usually discarded after use, so they should not keep any local state). Clients are identified by a client ID, or short `cid`. The `cid` can be used, for example, to load different local data partitions for different clients, as can be seen below:"
      ]
    },
    {
      "cell_type": "code",
      "execution_count": 12,
      "metadata": {
        "id": "qkcwggRYOwWN"
      },
      "outputs": [],
      "source": [
        "def client_fn(cid: str) -> FlowerClient:\n",
        "    \"\"\"Create a Flower client representing a single organization.\"\"\"\n",
        "\n",
        "    # Load model\n",
        "    net = Net().to(DEVICE)\n",
        "\n",
        "    # Load data (CIFAR-10)\n",
        "    # Note: each client gets a different trainloader/valloader, so each client\n",
        "    # will train and evaluate on their own unique data\n",
        "    trainloader = trainloaders[int(cid)]\n",
        "    valloader = valloaders[int(cid)]\n",
        "\n",
        "    # Create a  single Flower client representing a single organization\n",
        "    return FlowerClient(net, trainloader, valloader)"
      ]
    },
    {
      "cell_type": "markdown",
      "metadata": {
        "id": "axzXSMtlfhXU"
      },
      "source": [
        "### Starting the training\n",
        "\n",
        "We now have the class `FlowerClient` which defines client-side training/evaluation and `client_fn` which allows Flower to create `FlowerClient` instances whenever it needs to call `fit` or `evaluate` on one particular client. The last step is to start the actual simulation using `flwr.simulation.start_simulation`. \n",
        "\n",
        "The function `start_simulation` accepts a number of arguments, amongst them the `client_fn` used to create `FlowerClient` instances, the number of clients to simulate (`num_clients`), the number of federated learning rounds (`num_rounds`), and the strategy. The strategy encapsulates the federated learning approach/algorithm, for example, *Federated Averaging* (FedAvg).\n",
        "\n",
        "Flower has a number of built-in strategies, but we can also use our own strategy implementations to customize nearly all aspects of the federated learning approach. For this example, we use the built-in `FedAvg` implementation and customize it using a few basic parameters. The last step is the actual call to `start_simulation` which - you guessed it - starts the simulation:"
      ]
    },
    {
      "cell_type": "code",
      "execution_count": 13,
      "metadata": {
        "id": "ELNy0-0nfyI2"
      },
      "outputs": [
        {
          "name": "stderr",
          "output_type": "stream",
          "text": [
            "INFO flower 2022-04-18 12:17:53,377 | app.py:147 | Ray initialized with resources: {'memory': 4041542862.0, 'node:172.24.37.150': 1.0, 'object_store_memory': 2020771430.0, 'CPU': 16.0}\n",
            "INFO flower 2022-04-18 12:17:53,379 | app.py:156 | Starting Flower simulation running: {'num_rounds': 50}\n",
            "INFO flower 2022-04-18 12:17:53,380 | server.py:84 | Initializing global parameters\n",
            "INFO flower 2022-04-18 12:17:53,381 | server.py:249 | Requesting initial parameters from one random client\n",
            "INFO flower 2022-04-18 12:17:55,281 | server.py:252 | Received initial parameters from one random client\n",
            "INFO flower 2022-04-18 12:17:55,282 | server.py:86 | Evaluating initial parameters\n",
            "INFO flower 2022-04-18 12:17:55,282 | server.py:99 | FL starting\n",
            "DEBUG flower 2022-04-18 12:17:55,282 | server.py:202 | fit_round: strategy sampled 10 clients (out of 10)\n",
            "DEBUG flower 2022-04-18 12:17:57,504 | server.py:214 | fit_round received 10 results and 0 failures\n",
            "WARNING flower 2022-04-18 12:17:57,514 | fedavg.py:237 | No fit_metrics_aggregation_fn provided\n",
            "DEBUG flower 2022-04-18 12:17:57,515 | server.py:159 | evaluate_round: strategy sampled 5 clients (out of 10)\n",
            "DEBUG flower 2022-04-18 12:17:57,612 | server.py:171 | evaluate_round received 5 results and 0 failures\n",
            "WARNING flower 2022-04-18 12:17:57,613 | fedavg.py:268 | No evaluate_metrics_aggregation_fn provided\n",
            "DEBUG flower 2022-04-18 12:17:57,614 | server.py:202 | fit_round: strategy sampled 10 clients (out of 10)\n",
            "DEBUG flower 2022-04-18 12:17:57,792 | server.py:214 | fit_round received 10 results and 0 failures\n",
            "DEBUG flower 2022-04-18 12:17:57,803 | server.py:159 | evaluate_round: strategy sampled 5 clients (out of 10)\n",
            "DEBUG flower 2022-04-18 12:17:57,933 | server.py:171 | evaluate_round received 5 results and 0 failures\n",
            "DEBUG flower 2022-04-18 12:17:57,934 | server.py:202 | fit_round: strategy sampled 10 clients (out of 10)\n",
            "DEBUG flower 2022-04-18 12:17:58,157 | server.py:214 | fit_round received 10 results and 0 failures\n",
            "DEBUG flower 2022-04-18 12:17:58,174 | server.py:159 | evaluate_round: strategy sampled 5 clients (out of 10)\n",
            "DEBUG flower 2022-04-18 12:17:58,284 | server.py:171 | evaluate_round received 5 results and 0 failures\n",
            "DEBUG flower 2022-04-18 12:17:58,285 | server.py:202 | fit_round: strategy sampled 10 clients (out of 10)\n",
            "DEBUG flower 2022-04-18 12:17:58,549 | server.py:214 | fit_round received 10 results and 0 failures\n",
            "DEBUG flower 2022-04-18 12:17:58,568 | server.py:159 | evaluate_round: strategy sampled 5 clients (out of 10)\n",
            "DEBUG flower 2022-04-18 12:17:58,663 | server.py:171 | evaluate_round received 5 results and 0 failures\n",
            "DEBUG flower 2022-04-18 12:17:58,664 | server.py:202 | fit_round: strategy sampled 10 clients (out of 10)\n",
            "DEBUG flower 2022-04-18 12:17:58,884 | server.py:214 | fit_round received 10 results and 0 failures\n",
            "DEBUG flower 2022-04-18 12:17:58,897 | server.py:159 | evaluate_round: strategy sampled 5 clients (out of 10)\n",
            "DEBUG flower 2022-04-18 12:17:58,984 | server.py:171 | evaluate_round received 5 results and 0 failures\n",
            "DEBUG flower 2022-04-18 12:17:58,985 | server.py:202 | fit_round: strategy sampled 10 clients (out of 10)\n",
            "DEBUG flower 2022-04-18 12:17:59,217 | server.py:214 | fit_round received 10 results and 0 failures\n",
            "DEBUG flower 2022-04-18 12:17:59,230 | server.py:159 | evaluate_round: strategy sampled 5 clients (out of 10)\n",
            "DEBUG flower 2022-04-18 12:17:59,309 | server.py:171 | evaluate_round received 5 results and 0 failures\n",
            "DEBUG flower 2022-04-18 12:17:59,310 | server.py:202 | fit_round: strategy sampled 10 clients (out of 10)\n",
            "DEBUG flower 2022-04-18 12:17:59,478 | server.py:214 | fit_round received 10 results and 0 failures\n",
            "DEBUG flower 2022-04-18 12:17:59,489 | server.py:159 | evaluate_round: strategy sampled 5 clients (out of 10)\n",
            "DEBUG flower 2022-04-18 12:17:59,558 | server.py:171 | evaluate_round received 5 results and 0 failures\n",
            "DEBUG flower 2022-04-18 12:17:59,559 | server.py:202 | fit_round: strategy sampled 10 clients (out of 10)\n",
            "DEBUG flower 2022-04-18 12:17:59,707 | server.py:214 | fit_round received 10 results and 0 failures\n",
            "DEBUG flower 2022-04-18 12:17:59,717 | server.py:159 | evaluate_round: strategy sampled 5 clients (out of 10)\n",
            "DEBUG flower 2022-04-18 12:17:59,788 | server.py:171 | evaluate_round received 5 results and 0 failures\n",
            "DEBUG flower 2022-04-18 12:17:59,789 | server.py:202 | fit_round: strategy sampled 10 clients (out of 10)\n",
            "DEBUG flower 2022-04-18 12:17:59,952 | server.py:214 | fit_round received 10 results and 0 failures\n",
            "DEBUG flower 2022-04-18 12:17:59,964 | server.py:159 | evaluate_round: strategy sampled 5 clients (out of 10)\n",
            "DEBUG flower 2022-04-18 12:18:00,036 | server.py:171 | evaluate_round received 5 results and 0 failures\n",
            "DEBUG flower 2022-04-18 12:18:00,037 | server.py:202 | fit_round: strategy sampled 10 clients (out of 10)\n",
            "DEBUG flower 2022-04-18 12:18:00,185 | server.py:214 | fit_round received 10 results and 0 failures\n",
            "DEBUG flower 2022-04-18 12:18:00,195 | server.py:159 | evaluate_round: strategy sampled 5 clients (out of 10)\n",
            "DEBUG flower 2022-04-18 12:18:00,260 | server.py:171 | evaluate_round received 5 results and 0 failures\n",
            "DEBUG flower 2022-04-18 12:18:00,260 | server.py:202 | fit_round: strategy sampled 10 clients (out of 10)\n",
            "DEBUG flower 2022-04-18 12:18:00,393 | server.py:214 | fit_round received 10 results and 0 failures\n",
            "DEBUG flower 2022-04-18 12:18:00,404 | server.py:159 | evaluate_round: strategy sampled 5 clients (out of 10)\n",
            "DEBUG flower 2022-04-18 12:18:00,468 | server.py:171 | evaluate_round received 5 results and 0 failures\n",
            "DEBUG flower 2022-04-18 12:18:00,468 | server.py:202 | fit_round: strategy sampled 10 clients (out of 10)\n",
            "DEBUG flower 2022-04-18 12:18:00,615 | server.py:214 | fit_round received 10 results and 0 failures\n",
            "DEBUG flower 2022-04-18 12:18:00,625 | server.py:159 | evaluate_round: strategy sampled 5 clients (out of 10)\n",
            "DEBUG flower 2022-04-18 12:18:00,698 | server.py:171 | evaluate_round received 5 results and 0 failures\n",
            "DEBUG flower 2022-04-18 12:18:00,699 | server.py:202 | fit_round: strategy sampled 10 clients (out of 10)\n",
            "DEBUG flower 2022-04-18 12:18:00,877 | server.py:214 | fit_round received 10 results and 0 failures\n",
            "DEBUG flower 2022-04-18 12:18:00,892 | server.py:159 | evaluate_round: strategy sampled 5 clients (out of 10)\n",
            "DEBUG flower 2022-04-18 12:18:00,962 | server.py:171 | evaluate_round received 5 results and 0 failures\n",
            "DEBUG flower 2022-04-18 12:18:00,963 | server.py:202 | fit_round: strategy sampled 10 clients (out of 10)\n",
            "DEBUG flower 2022-04-18 12:18:01,105 | server.py:214 | fit_round received 10 results and 0 failures\n",
            "DEBUG flower 2022-04-18 12:18:01,115 | server.py:159 | evaluate_round: strategy sampled 5 clients (out of 10)\n",
            "DEBUG flower 2022-04-18 12:18:01,187 | server.py:171 | evaluate_round received 5 results and 0 failures\n",
            "DEBUG flower 2022-04-18 12:18:01,188 | server.py:202 | fit_round: strategy sampled 10 clients (out of 10)\n",
            "DEBUG flower 2022-04-18 12:18:01,322 | server.py:214 | fit_round received 10 results and 0 failures\n",
            "DEBUG flower 2022-04-18 12:18:01,332 | server.py:159 | evaluate_round: strategy sampled 5 clients (out of 10)\n",
            "DEBUG flower 2022-04-18 12:18:01,398 | server.py:171 | evaluate_round received 5 results and 0 failures\n",
            "DEBUG flower 2022-04-18 12:18:01,399 | server.py:202 | fit_round: strategy sampled 10 clients (out of 10)\n",
            "DEBUG flower 2022-04-18 12:18:04,782 | server.py:214 | fit_round received 10 results and 0 failures\n",
            "DEBUG flower 2022-04-18 12:18:04,798 | server.py:159 | evaluate_round: strategy sampled 5 clients (out of 10)\n",
            "DEBUG flower 2022-04-18 12:18:04,944 | server.py:171 | evaluate_round received 5 results and 0 failures\n",
            "DEBUG flower 2022-04-18 12:18:04,945 | server.py:202 | fit_round: strategy sampled 10 clients (out of 10)\n",
            "DEBUG flower 2022-04-18 12:18:05,107 | server.py:214 | fit_round received 10 results and 0 failures\n",
            "DEBUG flower 2022-04-18 12:18:05,119 | server.py:159 | evaluate_round: strategy sampled 5 clients (out of 10)\n",
            "DEBUG flower 2022-04-18 12:18:05,172 | server.py:171 | evaluate_round received 5 results and 0 failures\n",
            "DEBUG flower 2022-04-18 12:18:05,173 | server.py:202 | fit_round: strategy sampled 10 clients (out of 10)\n",
            "DEBUG flower 2022-04-18 12:18:05,295 | server.py:214 | fit_round received 10 results and 0 failures\n",
            "DEBUG flower 2022-04-18 12:18:05,305 | server.py:159 | evaluate_round: strategy sampled 5 clients (out of 10)\n",
            "DEBUG flower 2022-04-18 12:18:05,361 | server.py:171 | evaluate_round received 5 results and 0 failures\n",
            "DEBUG flower 2022-04-18 12:18:05,361 | server.py:202 | fit_round: strategy sampled 10 clients (out of 10)\n",
            "DEBUG flower 2022-04-18 12:18:05,498 | server.py:214 | fit_round received 10 results and 0 failures\n",
            "DEBUG flower 2022-04-18 12:18:05,509 | server.py:159 | evaluate_round: strategy sampled 5 clients (out of 10)\n",
            "DEBUG flower 2022-04-18 12:18:05,570 | server.py:171 | evaluate_round received 5 results and 0 failures\n",
            "DEBUG flower 2022-04-18 12:18:05,571 | server.py:202 | fit_round: strategy sampled 10 clients (out of 10)\n",
            "DEBUG flower 2022-04-18 12:18:05,753 | server.py:214 | fit_round received 10 results and 0 failures\n",
            "DEBUG flower 2022-04-18 12:18:05,763 | server.py:159 | evaluate_round: strategy sampled 5 clients (out of 10)\n",
            "DEBUG flower 2022-04-18 12:18:05,829 | server.py:171 | evaluate_round received 5 results and 0 failures\n",
            "DEBUG flower 2022-04-18 12:18:05,830 | server.py:202 | fit_round: strategy sampled 10 clients (out of 10)\n",
            "DEBUG flower 2022-04-18 12:18:06,045 | server.py:214 | fit_round received 10 results and 0 failures\n",
            "DEBUG flower 2022-04-18 12:18:06,056 | server.py:159 | evaluate_round: strategy sampled 5 clients (out of 10)\n",
            "DEBUG flower 2022-04-18 12:18:06,126 | server.py:171 | evaluate_round received 5 results and 0 failures\n",
            "DEBUG flower 2022-04-18 12:18:06,127 | server.py:202 | fit_round: strategy sampled 10 clients (out of 10)\n",
            "DEBUG flower 2022-04-18 12:18:06,282 | server.py:214 | fit_round received 10 results and 0 failures\n",
            "DEBUG flower 2022-04-18 12:18:06,294 | server.py:159 | evaluate_round: strategy sampled 5 clients (out of 10)\n",
            "DEBUG flower 2022-04-18 12:18:06,380 | server.py:171 | evaluate_round received 5 results and 0 failures\n",
            "DEBUG flower 2022-04-18 12:18:06,381 | server.py:202 | fit_round: strategy sampled 10 clients (out of 10)\n",
            "DEBUG flower 2022-04-18 12:18:07,182 | server.py:214 | fit_round received 10 results and 0 failures\n",
            "DEBUG flower 2022-04-18 12:18:07,200 | server.py:159 | evaluate_round: strategy sampled 5 clients (out of 10)\n",
            "DEBUG flower 2022-04-18 12:18:07,303 | server.py:171 | evaluate_round received 5 results and 0 failures\n",
            "DEBUG flower 2022-04-18 12:18:07,303 | server.py:202 | fit_round: strategy sampled 10 clients (out of 10)\n",
            "DEBUG flower 2022-04-18 12:18:07,596 | server.py:214 | fit_round received 10 results and 0 failures\n",
            "DEBUG flower 2022-04-18 12:18:07,611 | server.py:159 | evaluate_round: strategy sampled 5 clients (out of 10)\n",
            "DEBUG flower 2022-04-18 12:18:07,703 | server.py:171 | evaluate_round received 5 results and 0 failures\n",
            "DEBUG flower 2022-04-18 12:18:07,704 | server.py:202 | fit_round: strategy sampled 10 clients (out of 10)\n",
            "DEBUG flower 2022-04-18 12:18:13,546 | server.py:214 | fit_round received 10 results and 0 failures\n",
            "DEBUG flower 2022-04-18 12:18:13,589 | server.py:159 | evaluate_round: strategy sampled 5 clients (out of 10)\n",
            "DEBUG flower 2022-04-18 12:18:13,656 | server.py:171 | evaluate_round received 5 results and 0 failures\n",
            "DEBUG flower 2022-04-18 12:18:13,656 | server.py:202 | fit_round: strategy sampled 10 clients (out of 10)\n",
            "DEBUG flower 2022-04-18 12:18:13,829 | server.py:214 | fit_round received 10 results and 0 failures\n",
            "DEBUG flower 2022-04-18 12:18:13,843 | server.py:159 | evaluate_round: strategy sampled 5 clients (out of 10)\n",
            "DEBUG flower 2022-04-18 12:18:13,912 | server.py:171 | evaluate_round received 5 results and 0 failures\n",
            "DEBUG flower 2022-04-18 12:18:13,914 | server.py:202 | fit_round: strategy sampled 10 clients (out of 10)\n",
            "DEBUG flower 2022-04-18 12:18:14,401 | server.py:214 | fit_round received 10 results and 0 failures\n",
            "DEBUG flower 2022-04-18 12:18:14,414 | server.py:159 | evaluate_round: strategy sampled 5 clients (out of 10)\n",
            "DEBUG flower 2022-04-18 12:18:14,479 | server.py:171 | evaluate_round received 5 results and 0 failures\n",
            "DEBUG flower 2022-04-18 12:18:14,480 | server.py:202 | fit_round: strategy sampled 10 clients (out of 10)\n",
            "\u001b[2m\u001b[36m(raylet)\u001b[0m Spilled 2388 MiB, 605 objects, write throughput 287 MiB/s. Set RAY_verbose_spill_logs=0 to disable this message.\n",
            "DEBUG flower 2022-04-18 12:18:14,652 | server.py:214 | fit_round received 10 results and 0 failures\n",
            "DEBUG flower 2022-04-18 12:18:14,664 | server.py:159 | evaluate_round: strategy sampled 5 clients (out of 10)\n",
            "DEBUG flower 2022-04-18 12:18:14,736 | server.py:171 | evaluate_round received 5 results and 0 failures\n",
            "DEBUG flower 2022-04-18 12:18:14,736 | server.py:202 | fit_round: strategy sampled 10 clients (out of 10)\n",
            "DEBUG flower 2022-04-18 12:18:14,928 | server.py:214 | fit_round received 10 results and 0 failures\n",
            "DEBUG flower 2022-04-18 12:18:14,944 | server.py:159 | evaluate_round: strategy sampled 5 clients (out of 10)\n",
            "DEBUG flower 2022-04-18 12:18:15,062 | server.py:171 | evaluate_round received 5 results and 0 failures\n",
            "DEBUG flower 2022-04-18 12:18:15,064 | server.py:202 | fit_round: strategy sampled 10 clients (out of 10)\n",
            "DEBUG flower 2022-04-18 12:18:15,267 | server.py:214 | fit_round received 10 results and 0 failures\n",
            "DEBUG flower 2022-04-18 12:18:15,279 | server.py:159 | evaluate_round: strategy sampled 5 clients (out of 10)\n",
            "DEBUG flower 2022-04-18 12:18:15,371 | server.py:171 | evaluate_round received 5 results and 0 failures\n",
            "DEBUG flower 2022-04-18 12:18:15,372 | server.py:202 | fit_round: strategy sampled 10 clients (out of 10)\n",
            "DEBUG flower 2022-04-18 12:18:15,578 | server.py:214 | fit_round received 10 results and 0 failures\n",
            "DEBUG flower 2022-04-18 12:18:15,596 | server.py:159 | evaluate_round: strategy sampled 5 clients (out of 10)\n",
            "DEBUG flower 2022-04-18 12:18:15,717 | server.py:171 | evaluate_round received 5 results and 0 failures\n",
            "DEBUG flower 2022-04-18 12:18:15,719 | server.py:202 | fit_round: strategy sampled 10 clients (out of 10)\n",
            "DEBUG flower 2022-04-18 12:18:16,675 | server.py:214 | fit_round received 10 results and 0 failures\n",
            "DEBUG flower 2022-04-18 12:18:16,709 | server.py:159 | evaluate_round: strategy sampled 5 clients (out of 10)\n",
            "DEBUG flower 2022-04-18 12:18:16,862 | server.py:171 | evaluate_round received 5 results and 0 failures\n",
            "DEBUG flower 2022-04-18 12:18:16,870 | server.py:202 | fit_round: strategy sampled 10 clients (out of 10)\n",
            "DEBUG flower 2022-04-18 12:18:17,256 | server.py:214 | fit_round received 10 results and 0 failures\n",
            "DEBUG flower 2022-04-18 12:18:17,283 | server.py:159 | evaluate_round: strategy sampled 5 clients (out of 10)\n",
            "DEBUG flower 2022-04-18 12:18:17,468 | server.py:171 | evaluate_round received 5 results and 0 failures\n",
            "DEBUG flower 2022-04-18 12:18:17,489 | server.py:202 | fit_round: strategy sampled 10 clients (out of 10)\n",
            "DEBUG flower 2022-04-18 12:18:18,305 | server.py:214 | fit_round received 10 results and 0 failures\n",
            "DEBUG flower 2022-04-18 12:18:18,337 | server.py:159 | evaluate_round: strategy sampled 5 clients (out of 10)\n",
            "DEBUG flower 2022-04-18 12:18:18,409 | server.py:171 | evaluate_round received 5 results and 0 failures\n",
            "DEBUG flower 2022-04-18 12:18:18,410 | server.py:202 | fit_round: strategy sampled 10 clients (out of 10)\n",
            "DEBUG flower 2022-04-18 12:18:18,667 | server.py:214 | fit_round received 10 results and 0 failures\n",
            "DEBUG flower 2022-04-18 12:18:18,684 | server.py:159 | evaluate_round: strategy sampled 5 clients (out of 10)\n",
            "DEBUG flower 2022-04-18 12:18:18,794 | server.py:171 | evaluate_round received 5 results and 0 failures\n",
            "DEBUG flower 2022-04-18 12:18:18,796 | server.py:202 | fit_round: strategy sampled 10 clients (out of 10)\n",
            "DEBUG flower 2022-04-18 12:18:19,847 | server.py:214 | fit_round received 10 results and 0 failures\n",
            "DEBUG flower 2022-04-18 12:18:19,879 | server.py:159 | evaluate_round: strategy sampled 5 clients (out of 10)\n",
            "DEBUG flower 2022-04-18 12:18:19,956 | server.py:171 | evaluate_round received 5 results and 0 failures\n",
            "DEBUG flower 2022-04-18 12:18:19,957 | server.py:202 | fit_round: strategy sampled 10 clients (out of 10)\n",
            "DEBUG flower 2022-04-18 12:18:20,233 | server.py:214 | fit_round received 10 results and 0 failures\n",
            "DEBUG flower 2022-04-18 12:18:20,257 | server.py:159 | evaluate_round: strategy sampled 5 clients (out of 10)\n",
            "DEBUG flower 2022-04-18 12:18:20,351 | server.py:171 | evaluate_round received 5 results and 0 failures\n",
            "DEBUG flower 2022-04-18 12:18:20,357 | server.py:202 | fit_round: strategy sampled 10 clients (out of 10)\n",
            "DEBUG flower 2022-04-18 12:18:21,045 | server.py:214 | fit_round received 10 results and 0 failures\n",
            "DEBUG flower 2022-04-18 12:18:21,079 | server.py:159 | evaluate_round: strategy sampled 5 clients (out of 10)\n",
            "DEBUG flower 2022-04-18 12:18:21,214 | server.py:171 | evaluate_round received 5 results and 0 failures\n",
            "DEBUG flower 2022-04-18 12:18:21,225 | server.py:202 | fit_round: strategy sampled 10 clients (out of 10)\n",
            "DEBUG flower 2022-04-18 12:18:21,545 | server.py:214 | fit_round received 10 results and 0 failures\n",
            "DEBUG flower 2022-04-18 12:18:21,564 | server.py:159 | evaluate_round: strategy sampled 5 clients (out of 10)\n",
            "DEBUG flower 2022-04-18 12:18:21,680 | server.py:171 | evaluate_round received 5 results and 0 failures\n",
            "DEBUG flower 2022-04-18 12:18:21,681 | server.py:202 | fit_round: strategy sampled 10 clients (out of 10)\n",
            "DEBUG flower 2022-04-18 12:18:21,906 | server.py:214 | fit_round received 10 results and 0 failures\n",
            "DEBUG flower 2022-04-18 12:18:21,919 | server.py:159 | evaluate_round: strategy sampled 5 clients (out of 10)\n",
            "DEBUG flower 2022-04-18 12:18:22,003 | server.py:171 | evaluate_round received 5 results and 0 failures\n",
            "DEBUG flower 2022-04-18 12:18:22,004 | server.py:202 | fit_round: strategy sampled 10 clients (out of 10)\n",
            "DEBUG flower 2022-04-18 12:18:22,605 | server.py:214 | fit_round received 10 results and 0 failures\n",
            "DEBUG flower 2022-04-18 12:18:22,641 | server.py:159 | evaluate_round: strategy sampled 5 clients (out of 10)\n",
            "DEBUG flower 2022-04-18 12:18:22,815 | server.py:171 | evaluate_round received 5 results and 0 failures\n",
            "DEBUG flower 2022-04-18 12:18:22,816 | server.py:202 | fit_round: strategy sampled 10 clients (out of 10)\n",
            "DEBUG flower 2022-04-18 12:18:23,018 | server.py:214 | fit_round received 10 results and 0 failures\n",
            "DEBUG flower 2022-04-18 12:18:23,032 | server.py:159 | evaluate_round: strategy sampled 5 clients (out of 10)\n",
            "\u001b[2m\u001b[36m(raylet)\u001b[0m Spilled 4119 MiB, 1037 objects, write throughput 308 MiB/s.\n",
            "DEBUG flower 2022-04-18 12:18:23,171 | server.py:171 | evaluate_round received 5 results and 0 failures\n",
            "DEBUG flower 2022-04-18 12:18:23,173 | server.py:202 | fit_round: strategy sampled 10 clients (out of 10)\n",
            "DEBUG flower 2022-04-18 12:18:23,379 | server.py:214 | fit_round received 10 results and 0 failures\n",
            "DEBUG flower 2022-04-18 12:18:23,390 | server.py:159 | evaluate_round: strategy sampled 5 clients (out of 10)\n",
            "DEBUG flower 2022-04-18 12:18:23,468 | server.py:171 | evaluate_round received 5 results and 0 failures\n",
            "DEBUG flower 2022-04-18 12:18:23,469 | server.py:202 | fit_round: strategy sampled 10 clients (out of 10)\n",
            "DEBUG flower 2022-04-18 12:18:23,711 | server.py:214 | fit_round received 10 results and 0 failures\n",
            "DEBUG flower 2022-04-18 12:18:23,760 | server.py:159 | evaluate_round: strategy sampled 5 clients (out of 10)\n",
            "DEBUG flower 2022-04-18 12:18:23,938 | server.py:171 | evaluate_round received 5 results and 0 failures\n",
            "DEBUG flower 2022-04-18 12:18:23,945 | server.py:202 | fit_round: strategy sampled 10 clients (out of 10)\n",
            "DEBUG flower 2022-04-18 12:18:24,510 | server.py:214 | fit_round received 10 results and 0 failures\n",
            "DEBUG flower 2022-04-18 12:18:24,543 | server.py:159 | evaluate_round: strategy sampled 5 clients (out of 10)\n",
            "DEBUG flower 2022-04-18 12:18:24,634 | server.py:171 | evaluate_round received 5 results and 0 failures\n",
            "DEBUG flower 2022-04-18 12:18:24,635 | server.py:202 | fit_round: strategy sampled 10 clients (out of 10)\n",
            "DEBUG flower 2022-04-18 12:18:24,841 | server.py:214 | fit_round received 10 results and 0 failures\n",
            "DEBUG flower 2022-04-18 12:18:24,853 | server.py:159 | evaluate_round: strategy sampled 5 clients (out of 10)\n",
            "DEBUG flower 2022-04-18 12:18:24,944 | server.py:171 | evaluate_round received 5 results and 0 failures\n",
            "DEBUG flower 2022-04-18 12:18:24,948 | server.py:202 | fit_round: strategy sampled 10 clients (out of 10)\n",
            "DEBUG flower 2022-04-18 12:18:25,187 | server.py:214 | fit_round received 10 results and 0 failures\n",
            "DEBUG flower 2022-04-18 12:18:25,251 | server.py:159 | evaluate_round: strategy sampled 5 clients (out of 10)\n",
            "DEBUG flower 2022-04-18 12:18:25,692 | server.py:171 | evaluate_round received 5 results and 0 failures\n",
            "DEBUG flower 2022-04-18 12:18:25,724 | server.py:202 | fit_round: strategy sampled 10 clients (out of 10)\n",
            "DEBUG flower 2022-04-18 12:18:26,107 | server.py:214 | fit_round received 10 results and 0 failures\n",
            "DEBUG flower 2022-04-18 12:18:26,131 | server.py:159 | evaluate_round: strategy sampled 5 clients (out of 10)\n",
            "DEBUG flower 2022-04-18 12:18:26,281 | server.py:171 | evaluate_round received 5 results and 0 failures\n",
            "DEBUG flower 2022-04-18 12:18:26,282 | server.py:202 | fit_round: strategy sampled 10 clients (out of 10)\n",
            "DEBUG flower 2022-04-18 12:18:26,922 | server.py:214 | fit_round received 10 results and 0 failures\n",
            "DEBUG flower 2022-04-18 12:18:26,939 | server.py:159 | evaluate_round: strategy sampled 5 clients (out of 10)\n",
            "DEBUG flower 2022-04-18 12:18:27,136 | server.py:171 | evaluate_round received 5 results and 0 failures\n",
            "DEBUG flower 2022-04-18 12:18:27,143 | server.py:202 | fit_round: strategy sampled 10 clients (out of 10)\n",
            "DEBUG flower 2022-04-18 12:18:27,673 | server.py:214 | fit_round received 10 results and 0 failures\n",
            "DEBUG flower 2022-04-18 12:18:27,703 | server.py:159 | evaluate_round: strategy sampled 5 clients (out of 10)\n",
            "DEBUG flower 2022-04-18 12:18:27,932 | server.py:171 | evaluate_round received 5 results and 0 failures\n",
            "INFO flower 2022-04-18 12:18:27,935 | server.py:138 | FL finished in 32.652407404999394\n",
            "INFO flower 2022-04-18 12:18:27,936 | app.py:149 | app_fit: losses_distributed [(1, 0.10170313517252605), (2, 0.10012740347120497), (3, 0.09672251595391167), (4, 0.09492024262746176), (5, 0.09232378641764323), (6, 0.08819955984751385), (7, 0.08493067953321669), (8, 0.08444229655795628), (9, 0.08063377698262533), (10, 0.08011843999226888), (11, 0.07766005674997965), (12, 0.07701673984527588), (13, 0.07571699937184653), (14, 0.07419976499345567), (15, 0.0696168613433838), (16, 0.0716111946105957), (17, 0.0725377967622545), (18, 0.0697710519366794), (19, 0.07175329367319742), (20, 0.06573514249589708), (21, 0.0703413799073961), (22, 0.06568889882829454), (23, 0.07034764872656928), (24, 0.07085522280799018), (25, 0.06878535111745199), (26, 0.07017848067813448), (27, 0.06773789988623727), (28, 0.06511567831039429), (29, 0.06983387894100614), (30, 0.07063866535822551), (31, 0.0748902850680881), (32, 0.07705845355987548), (33, 0.07134830792744955), (34, 0.07251675049463908), (35, 0.07380306296878392), (36, 0.07686529000600179), (37, 0.07308591710196602), (38, 0.0684788786040412), (39, 0.077169328795539), (40, 0.08107527097066244), (41, 0.07573768191867405), (42, 0.08005863613552518), (43, 0.08906552579667833), (44, 0.08282194826338027), (45, 0.07933393584357366), (46, 0.08663873831431071), (47, 0.0840479792488946), (48, 0.0852071910434299), (49, 0.0976561254925198), (50, 0.09821320533752441)]\n",
            "INFO flower 2022-04-18 12:18:27,936 | app.py:150 | app_fit: metrics_distributed {}\n",
            "INFO flower 2022-04-18 12:18:27,937 | app.py:151 | app_fit: losses_centralized []\n",
            "INFO flower 2022-04-18 12:18:27,937 | app.py:152 | app_fit: metrics_centralized {}\n"
          ]
        }
      ],
      "source": [
        "# Create FedAvg strategy\n",
        "strategy = fl.server.strategy.FedAvg(\n",
        "        fraction_fit=1.0,  # Sample 100% of available clients for training\n",
        "        fraction_eval=0.5,  # Sample 50% of available clients for evaluation\n",
        "        min_fit_clients=10,  # Never sample less than 10 clients for training\n",
        "        min_eval_clients=5,  # Never sample less than 5 clients for evaluation\n",
        "        min_available_clients=10,  # Wait until all 10 clients are available\n",
        ")\n",
        "\n",
        "# Start simulation\n",
        "history = fl.simulation.start_simulation(\n",
        "    client_fn=client_fn,\n",
        "    num_clients=NUM_CLIENTS,\n",
        "    num_rounds=50,\n",
        "    strategy=strategy,\n",
        ")"
      ]
    },
    {
      "cell_type": "markdown",
      "metadata": {
        "id": "e_lIXlErb9qN"
      },
      "source": [
        "### Behind the scenes\n",
        "\n",
        "So how does this work? How does Flower execute this simulation?\n",
        "\n",
        "When we call `start_simulation`, we tell Flower that there are 10 clients (`num_clients=10`). Flower then goes ahead an asks the `FedAvg` strategy to select clients. `FedAvg` knows that it should select 100% of the available clients (`fraction_fit=1.0`), so it goes ahead and selects 10 random clients (i.e., 100% of 10).\n",
        "\n",
        "Flower then asks the selected 10 clients to train the model. When the server receives the model parameter updates from the clients, it hands those updates over to the strategy (*FedAvg*) for aggregation. The strategy aggregates those updates and returns the new global model, which then gets used in the next round of federated learning."
      ]
    },
    {
      "cell_type": "markdown",
      "metadata": {
        "id": "umvwX56Of3Cr"
      },
      "source": [
        "## Final remarks\n",
        "\n",
        "Congratulations, you just trained a convolutional neural network, federated over 10 clients! With that, you understand the basics of federated learning with Flower. The same approach you've seen can be used with other machine learning frameworks (not just PyTorch) and tasks (not just CIFAR-10 images classification), for example NLP with Hugging Face Transformers or speech with SpeechBrain.\n",
        "\n",
        "In the next notebook, we're going to cover some more advanced concepts. Want to customize your strategy? Initialize parameters on the server side? Or evaluate the aggregated model on the server side? We'll cover all this and more in the next tutorial."
      ]
    }
  ],
  "metadata": {
    "accelerator": "GPU",
    "colab": {
      "collapsed_sections": [],
      "name": "Flower-1-Intro-to-FL-PyTorch.ipynb",
      "provenance": [],
      "toc_visible": true
    },
    "kernelspec": {
      "display_name": "Python 3",
      "name": "python3"
    },
    "language_info": {
      "codemirror_mode": {
        "name": "ipython",
        "version": 3
      },
      "file_extension": ".py",
      "mimetype": "text/x-python",
      "name": "python",
      "nbconvert_exporter": "python",
      "pygments_lexer": "ipython3",
      "version": "3.7.13"
    }
  },
  "nbformat": 4,
  "nbformat_minor": 0
}
